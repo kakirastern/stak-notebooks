{
 "cells": [
  {
   "cell_type": "markdown",
   "metadata": {},
   "source": [
    "# tables.ttools"
   ]
  },
  {
   "cell_type": "markdown",
   "metadata": {},
   "source": [
    "Ttools is an IRAF library used to build and manipulate STSDAS tables."
   ]
  },
  {
   "cell_type": "markdown",
   "metadata": {},
   "source": [
    "<a id='notes'></a>\n",
    "\n",
    "## Notes"
   ]
  },
  {
   "cell_type": "markdown",
   "metadata": {},
   "source": [
    "**For questions or comments please see** [our github page](https://github.com/spacetelescope/stak).  **We encourage and appreciate user feedback.**\n",
    "\n",
    "**Most of these notebooks rely on basic knowledge of the Astropy FITS I/O module.  If you are unfamiliar with this module please see the** [Astropy FITS I/O user documentation](http://docs.astropy.org/en/stable/io/fits/) **before using this documentation**.\n",
    "\n",
    "Many of the table tools in this package are easily accessible with the [Astropy Table](http://docs.astropy.org/en/stable/table/) object.  Here we will show the ``Astropy`` ``Table`` equivalent of the ttools tasks. You can also find a lot of useful information about tables and more advanced read and write options on the [Unified I/O Astropy documentation page](http://docs.astropy.org/en/stable/io/unified.html).\n",
    "\n",
    "Below we import the example table we will be using. **Before using some of the examples in this notebook you will need to setup the test table by running the code cell below**\n",
    "\n",
    "\n",
    "Contents:\n",
    "\n",
    "* [imtab-tabim](#imtab-tabim)\n",
    "* [partab](#partab)\n",
    "* [tabpar](#tabpar)\n",
    "* [taextract-tainsert](#taextract-tainsert)\n",
    "* [tcalc](#tcalc)\n",
    "* [tchcol](#tchcol)\n",
    "* [tcopy-tdump](#tcopy-tdump)\n",
    "* [tdiffer](#tdiffer)\n",
    "* [texpand](#texpand)\n",
    "* [thhistogram](#thistogram)\n",
    "* [tiimage-titable-tximage-txtable](#tiimage-titable-tximage-txtable)\n",
    "* [tinfo-tlcol-tprint](#tinfo-tlcol-tprint)\n",
    "* [tintegrate](#tintegrate)\n",
    "* [tjoin](#tjoin)\n",
    "* [tlinear](#tlinear)\n",
    "* [tmatch](#tmatch)\n",
    "* [tmerge](#tmerge)\n",
    "* [tselect-tproject-tquery](#tselect-tproject-tquery)\n",
    "* [tsort](#tsort)\n",
    "* [tstat](#tstat)"
   ]
  },
  {
   "cell_type": "code",
   "execution_count": 1,
   "metadata": {},
   "outputs": [
    {
     "data": {
      "text/html": [
       "<i>Table length=5</i>\n",
       "<table id=\"table90311216096\" class=\"table-striped table-bordered table-condensed\">\n",
       "<thead><tr><th>sname</th><th>radius</th><th>fwhm</th></tr></thead>\n",
       "<thead><tr><th>str5</th><th>int64</th><th>float64</th></tr></thead>\n",
       "<tr><td>star1</td><td>10</td><td>6.5</td></tr>\n",
       "<tr><td>star2</td><td>7</td><td>5.1</td></tr>\n",
       "<tr><td>star3</td><td>2</td><td>0.5</td></tr>\n",
       "<tr><td>star4</td><td>1</td><td>0.75</td></tr>\n",
       "<tr><td>star5</td><td>20</td><td>13.0</td></tr>\n",
       "</table>"
      ],
      "text/plain": [
       "<Table length=5>\n",
       "sname radius   fwhm \n",
       " str5 int64  float64\n",
       "----- ------ -------\n",
       "star1     10     6.5\n",
       "star2      7     5.1\n",
       "star3      2     0.5\n",
       "star4      1    0.75\n",
       "star5     20    13.0"
      ]
     },
     "execution_count": 1,
     "metadata": {},
     "output_type": "execute_result"
    }
   ],
   "source": [
    "#Here we import the example table we will be using from a text file:\n",
    "from astropy.table import Table\n",
    "\n",
    "filename = \"../data/table2.txt\"\n",
    "ex_table = Table.read(filename, format='ascii')\n",
    "ex_table"
   ]
  },
  {
   "cell_type": "markdown",
   "metadata": {},
   "source": [
    "<br>"
   ]
  },
  {
   "cell_type": "markdown",
   "metadata": {},
   "source": [
    "<br>"
   ]
  },
  {
   "cell_type": "markdown",
   "metadata": {},
   "source": [
    "<a id='imtab-tabim'></a>\n",
    "\n",
    "## imtab-tabim"
   ]
  },
  {
   "cell_type": "markdown",
   "metadata": {},
   "source": [
    "**Please review the** [Notes](#notes) **section above before running any examples in this notebook**\n",
    "\n",
    "Imtab can be used to copy an image to a table column.  We can accomplish this by first flattening the array (2D down to 1D), then putting it into a table. For more details see the [Table construction documentation](http://docs.astropy.org/en/stable/table/construct_table.html). Tabim is used to copy a column back to a table, as show below."
   ]
  },
  {
   "cell_type": "code",
   "execution_count": 2,
   "metadata": {
    "collapsed": true
   },
   "outputs": [],
   "source": [
    "# Standard Imports\n",
    "import numpy as np\n",
    "\n",
    "# Astronomy Specific Imports\n",
    "from astropy.table import Table"
   ]
  },
  {
   "cell_type": "code",
   "execution_count": 61,
   "metadata": {},
   "outputs": [
    {
     "name": "stdout",
     "output_type": "stream",
     "text": [
      "      col0     \n",
      "---------------\n",
      "  0.73498113873\n",
      " 0.601683040128\n",
      " 0.858365279296\n",
      " 0.183850195764\n",
      " 0.372479856903\n",
      " 0.531179886849\n",
      " 0.497759057246\n",
      "  0.24850881731\n",
      " 0.433906702747\n",
      "0.0199450763848\n",
      "            ...\n",
      "0.0908400575378\n",
      " 0.448676070596\n",
      " 0.275824527206\n",
      " 0.276164794467\n",
      " 0.193654333786\n",
      " 0.830174255037\n",
      " 0.581290249067\n",
      " 0.754640533974\n",
      " 0.651459214252\n",
      " 0.435245983443\n",
      "  0.75900952991\n",
      "Length = 36 rows\n",
      "[[ 0.73498114  0.60168304  0.85836528  0.1838502   0.37247986  0.53117989]\n",
      " [ 0.49775906  0.24850882  0.4339067   0.01994508  0.4251196   0.53538164]\n",
      " [ 0.8670757   0.38572518  0.39294164  0.34951696  0.53854753  0.8362706 ]\n",
      " [ 0.68752468  0.4442957   0.33628146  0.75661578  0.87014016  0.88223051]\n",
      " [ 0.3725361   0.09084006  0.44867607  0.27582453  0.27616479  0.19365433]\n",
      " [ 0.83017426  0.58129025  0.75464053  0.65145921  0.43524598  0.75900953]]\n"
     ]
    }
   ],
   "source": [
    "# Create test array and flatten\n",
    "image_array=np.random.rand(6,6)\n",
    "image_array=image_array.flatten()\n",
    "\n",
    "# Put into table, to make it a column we need the outside []\n",
    "t = Table([image_array])\n",
    "print(t)\n",
    "\n",
    "# Now to re-extract the array we have to grab the \n",
    "# data and unflatten it. The column was given the \n",
    "# default name of col0 by Table\n",
    "extract_array = t['col0'].data.reshape((6,6))\n",
    "print(extract_array)"
   ]
  },
  {
   "cell_type": "markdown",
   "metadata": {},
   "source": [
    "<br>"
   ]
  },
  {
   "cell_type": "markdown",
   "metadata": {},
   "source": [
    "<a id='partab'></a>\n",
    "\n",
    "## partab"
   ]
  },
  {
   "cell_type": "markdown",
   "metadata": {},
   "source": [
    "**Please review the** [Notes](#notes) **section above before running any examples in this notebook**\n",
    "\n",
    "Partab is used to transfer an IRAF parameter to a table element. Below we show the ``Astropy Table`` equivalent using indexing.  See the [Modifying Table](http://docs.astropy.org/en/stable/table/modify_table.html) documentation for more details."
   ]
  },
  {
   "cell_type": "code",
   "execution_count": 3,
   "metadata": {
    "collapsed": true
   },
   "outputs": [],
   "source": [
    "# Astronomy Specific Imports\n",
    "from astropy.table import Table"
   ]
  },
  {
   "cell_type": "code",
   "execution_count": 4,
   "metadata": {
    "scrolled": true
   },
   "outputs": [
    {
     "data": {
      "text/html": [
       "<i>Table length=5</i>\n",
       "<table id=\"table90467202944\" class=\"table-striped table-bordered table-condensed\">\n",
       "<thead><tr><th>sname</th><th>radius</th><th>fwhm</th></tr></thead>\n",
       "<thead><tr><th>str5</th><th>int64</th><th>float64</th></tr></thead>\n",
       "<tr><td>star1</td><td>10</td><td>6.5</td></tr>\n",
       "<tr><td>star2</td><td>7</td><td>5.1</td></tr>\n",
       "<tr><td>star3</td><td>2</td><td>0.5</td></tr>\n",
       "<tr><td>star4</td><td>1</td><td>0.75</td></tr>\n",
       "<tr><td>star5</td><td>20</td><td>4.5</td></tr>\n",
       "</table>"
      ],
      "text/plain": [
       "<Table length=5>\n",
       "sname radius   fwhm \n",
       " str5 int64  float64\n",
       "----- ------ -------\n",
       "star1     10     6.5\n",
       "star2      7     5.1\n",
       "star3      2     0.5\n",
       "star4      1    0.75\n",
       "star5     20     4.5"
      ]
     },
     "execution_count": 4,
     "metadata": {},
     "output_type": "execute_result"
    }
   ],
   "source": [
    "ex_table['fwhm'][4]=4.5\n",
    "ex_table"
   ]
  },
  {
   "cell_type": "markdown",
   "metadata": {},
   "source": [
    "<br>"
   ]
  },
  {
   "cell_type": "markdown",
   "metadata": {},
   "source": [
    "<a id='tabpar'></a>\n",
    "\n",
    "## tabpar"
   ]
  },
  {
   "cell_type": "markdown",
   "metadata": {},
   "source": [
    "**Please review the** [Notes](#notes) **section above before running any examples in this notebook**\n",
    "\n",
    "The tabpar task takes a header keyword and moves it to an IRAF parameter.  Extracting values from an astropy table is straightfoward with indexing. Keep in mind the indexing is zero based. When an FITS file is read into a table, the header information is saved in the metadata as an ``Ordered Dictionary``.  Below we show you how to pull values from the table data, and metadata."
   ]
  },
  {
   "cell_type": "code",
   "execution_count": 31,
   "metadata": {
    "collapsed": true
   },
   "outputs": [],
   "source": [
    "# Astronomy Specific Imports\n",
    "from astropy.table import Table"
   ]
  },
  {
   "cell_type": "code",
   "execution_count": 32,
   "metadata": {},
   "outputs": [
    {
     "name": "stdout",
     "output_type": "stream",
     "text": [
      "sname\n",
      "-----\n",
      "star1\n",
      "star2\n",
      "star3\n",
      "star4\n",
      "star5\n",
      "\n",
      "\n",
      "2\n"
     ]
    }
   ],
   "source": [
    "# Pulling a column out of a table\n",
    "column=ex_table['sname']\n",
    "print(column)\n",
    "\n",
    "# Pulling a value out of a table\n",
    "entry=ex_table['radius'][2]\n",
    "print('\\n')\n",
    "print(entry)"
   ]
  },
  {
   "cell_type": "code",
   "execution_count": 2,
   "metadata": {},
   "outputs": [
    {
     "name": "stdout",
     "output_type": "stream",
     "text": [
      "OrderedDict([('EXTNAME', 'PHOTPLAM'), ('EXTVER', 1)])\n",
      "PHOTPLAM\n"
     ]
    }
   ],
   "source": [
    "# Pulling values out of the metadata\n",
    "fits_file = '../data/08b18470j_imp.fits'\n",
    "fits_table = Table.read(fits_file, hdu=2)\n",
    "print(fits_table.meta)\n",
    "print(fits_table.meta['EXTNAME'])"
   ]
  },
  {
   "cell_type": "markdown",
   "metadata": {},
   "source": [
    "<br>"
   ]
  },
  {
   "cell_type": "markdown",
   "metadata": {},
   "source": [
    "<a id='taextract-tainsert'></a>\n",
    "\n",
    "## taextract-tainsert"
   ]
  },
  {
   "cell_type": "markdown",
   "metadata": {},
   "source": [
    "**Please review the** [Notes](#notes) **section above before running any examples in this notebook**\n",
    "\n",
    "Taextract and tainsert are used to copy scalar columns to array entries, and vice versa.  We will show how to store an array in an ``Astropy Table`` from a ``list`` of scalars."
   ]
  },
  {
   "cell_type": "code",
   "execution_count": 12,
   "metadata": {
    "collapsed": true
   },
   "outputs": [],
   "source": [
    "# Standard Imports\n",
    "import numpy as np\n",
    "\n",
    "# Astronomy Specific Imports\n",
    "from astropy.table import Table"
   ]
  },
  {
   "cell_type": "code",
   "execution_count": 70,
   "metadata": {},
   "outputs": [
    {
     "name": "stdout",
     "output_type": "stream",
     "text": [
      "col0\n",
      "----\n",
      "   4\n",
      "   5\n",
      "   6\n",
      "   7\n",
      "   8\n",
      "   9\n",
      "\n",
      "\n",
      "[4 5 6 7 8 9]\n"
     ]
    }
   ],
   "source": [
    "scalar_list = [4,5,6,7,8,9]\n",
    "\n",
    "# Change to numpy array\n",
    "in_arr = np.array(scalar_list)\n",
    "\n",
    "# Store in table\n",
    "t = Table([in_arr])\n",
    "t.pprint()\n",
    "\n",
    "print(\"\\n\")\n",
    "\n",
    "# Now extract array back to scalar list, flatten will take out the extra dimension\n",
    "out_arr = t['col0'].data\n",
    "print(out_arr)"
   ]
  },
  {
   "cell_type": "markdown",
   "metadata": {},
   "source": [
    "<br>"
   ]
  },
  {
   "cell_type": "markdown",
   "metadata": {},
   "source": [
    "<a id='tcalc'></a>\n",
    "\n",
    "## tcalc"
   ]
  },
  {
   "cell_type": "markdown",
   "metadata": {},
   "source": [
    "**Please review the** [Notes](#notes) **section above before running any examples in this notebook**\n",
    "\n",
    "Tcalc is used to perform arithmetic operations on table columns. This can be done automatically with any compatible data types. A new ``Column`` object will be returned, which you can add back into the original Table, or a new Table as desired.  See the [Table modification documentation](http://docs.astropy.org/en/stable/table/modify_table.html) for more details."
   ]
  },
  {
   "cell_type": "code",
   "execution_count": 63,
   "metadata": {
    "collapsed": true
   },
   "outputs": [],
   "source": [
    "# Astronomy Specific Imports\n",
    "from astropy.table import Table"
   ]
  },
  {
   "cell_type": "code",
   "execution_count": 67,
   "metadata": {},
   "outputs": [
    {
     "name": "stdout",
     "output_type": "stream",
     "text": [
      "radfw\n",
      "-----\n",
      " 16.5\n",
      " 12.1\n",
      "  2.5\n",
      " 1.75\n",
      " 24.5\n"
     ]
    }
   ],
   "source": [
    "out_column = ex_table['radius'] + ex_table['fwhm']\n",
    "out_column.name = 'radfw'\n",
    "print(out_column)"
   ]
  },
  {
   "cell_type": "markdown",
   "metadata": {},
   "source": [
    "<br>"
   ]
  },
  {
   "cell_type": "markdown",
   "metadata": {},
   "source": [
    "<a id='tchcol'></a>\n",
    "\n",
    "## tchcol"
   ]
  },
  {
   "cell_type": "markdown",
   "metadata": {},
   "source": [
    "**Please review the** [Notes](#notes) **section above before running any examples in this notebook**\n",
    "\n",
    "tchcol is used to change the column name, format or units.  This can be done easily with ``Astropy Tables``, and the [Astropy Units](http://docs.astropy.org/en/stable/units/) module."
   ]
  },
  {
   "cell_type": "code",
   "execution_count": 3,
   "metadata": {
    "collapsed": true
   },
   "outputs": [],
   "source": [
    "# Astronomy Specific Imports\n",
    "from astropy.table import Table\n",
    "import astropy.units as u\n",
    "import numpy as np"
   ]
  },
  {
   "cell_type": "code",
   "execution_count": 4,
   "metadata": {},
   "outputs": [
    {
     "name": "stdout",
     "output_type": "stream",
     "text": [
      "<Table length=5>\n",
      " name   dtype \n",
      "------ -------\n",
      " sname    str5\n",
      "radius   int64\n",
      "  fwhm float64\n",
      "\n",
      "<Table length=5>\n",
      " name   dtype  unit\n",
      "------ ------- ----\n",
      " sname    str5     \n",
      "radius   int64  pix\n",
      "  fwhm float64     \n",
      "\n",
      "<Table length=5>\n",
      "    name     dtype  unit\n",
      "----------- ------- ----\n",
      "      sname    str5     \n",
      "radius(pix)   int64  pix\n",
      "       fwhm float64     \n",
      "\n",
      "<Table length=5>\n",
      "    name     dtype  unit\n",
      "----------- ------- ----\n",
      "      sname    str5     \n",
      "radius(pix) float64  pix\n",
      "       fwhm float64     \n",
      "\n",
      "sname radius(pix) fwhm\n",
      "          pix         \n",
      "----- ----------- ----\n",
      "star1        10.0  6.5\n",
      "star2         7.0  5.1\n",
      "star3         2.0  0.5\n",
      "star4         1.0 0.75\n",
      "star5        20.0 13.0\n"
     ]
    }
   ],
   "source": [
    "# Set filename, read in file\n",
    "filename = \"../data/table2.txt\"\n",
    "ed_table = Table.read(filename, format='ascii')\n",
    "\n",
    "# To get table info\n",
    "print(ed_table.info)\n",
    "\n",
    "# To add/update units\n",
    "ed_table['radius'].unit = u.astrophys.pix\n",
    "print(ed_table.info)\n",
    "\n",
    "# To change column name\n",
    "ed_table['radius'].name='radius(pix)'\n",
    "print(ed_table.info)\n",
    "\n",
    "# To change dtype\n",
    "ed_table['radius(pix)'] = ed_table['radius(pix)'].astype(float)\n",
    "print(ed_table.info)\n",
    "\n",
    "print(ed_table)"
   ]
  },
  {
   "cell_type": "markdown",
   "metadata": {},
   "source": [
    "<br>"
   ]
  },
  {
   "cell_type": "markdown",
   "metadata": {},
   "source": [
    "<a id='tcopy-tdump'></a>\n",
    "\n",
    "## tcopy-tdump"
   ]
  },
  {
   "cell_type": "markdown",
   "metadata": {},
   "source": [
    "**Please review the** [Notes](#notes) **section above before running any examples in this notebook**\n",
    "\n",
    "Tcopy is used to copy tables, and can save a table to ASCII or FITS format.  Similarly, tdump is used to save a table to an ASCII file. We will show both save methods and a copy below.  For more details see the [unified read/write](http://docs.astropy.org/en/stable/io/unified.html) documentation. For more details on ``Table`` object copying see the [copy versus reference](http://docs.astropy.org/en/stable/table/construct_table.html#copy-versus-reference) doc section.\n",
    "\n",
    "Please be aware that there are many possible ASCII write formats provided by Astropy, [listed here](http://docs.astropy.org/en/stable/io/ascii/index.html#supported-formats). In this example we use the default basic formatting."
   ]
  },
  {
   "cell_type": "code",
   "execution_count": 10,
   "metadata": {
    "collapsed": true
   },
   "outputs": [],
   "source": [
    "# Astronomy Specific Imports\n",
    "from astropy.table import Table"
   ]
  },
  {
   "cell_type": "code",
   "execution_count": 11,
   "metadata": {
    "collapsed": true
   },
   "outputs": [],
   "source": [
    "# Make a copy of our example table\n",
    "tab_copy = ex_table.copy()\n",
    "\n",
    "# Save as ASCII\n",
    "outfile = 'copy_table.txt'\n",
    "tab_copy.write(outfile, format='ascii', overwrite=True)\n",
    "\n",
    "# Same method call to write to FITS\n",
    "outfits = 'copy_table.fits'\n",
    "tab_copy.write(outfits, overwrite=True)"
   ]
  },
  {
   "cell_type": "markdown",
   "metadata": {},
   "source": [
    "<br>"
   ]
  },
  {
   "cell_type": "markdown",
   "metadata": {},
   "source": [
    "<a id='tdiffer'></a>\n",
    "\n",
    "## tdiffer"
   ]
  },
  {
   "cell_type": "markdown",
   "metadata": {},
   "source": [
    "Tdiffer is used to create an output table that is the difference of two tables.  Astropy has this functionality in the [setdiff function](http://docs.astropy.org/en/stable/api/astropy.table.setdiff.html)."
   ]
  },
  {
   "cell_type": "code",
   "execution_count": 12,
   "metadata": {
    "collapsed": true
   },
   "outputs": [],
   "source": [
    "from astropy.table import Table\n",
    "from astropy.table import setdiff"
   ]
  },
  {
   "cell_type": "code",
   "execution_count": 16,
   "metadata": {},
   "outputs": [
    {
     "name": "stdout",
     "output_type": "stream",
     "text": [
      "table 1: \n",
      " a   b \n",
      "--- ---\n",
      "  1   c\n",
      "  4   d\n",
      "  9   f\n",
      "\n",
      "table 2: \n",
      " a   b \n",
      "--- ---\n",
      "  1   c\n",
      "  5   b\n",
      "  9   f\n",
      "\n",
      "table diff t1-t2\n",
      " a   b \n",
      "--- ---\n",
      "  4   d\n",
      "table diff t2-t1\n",
      " a   b \n",
      "--- ---\n",
      "  5   b\n"
     ]
    }
   ],
   "source": [
    "# Setup sample tables\n",
    "t1 = Table({'a': [1, 4, 9], 'b': ['c', 'd', 'f']}, names=('a', 'b'))\n",
    "t2 = Table({'a': [1, 5, 9], 'b': ['c', 'b', 'f']}, names=('a', 'b'))\n",
    "\n",
    "print(\"table 1: \\n{}\\n\".format(t1))\n",
    "print(\"table 2: \\n{}\\n\".format(t2))\n",
    "\n",
    "# Calculate and print the difference between tables\n",
    "print(\"table diff t1-t2\")\n",
    "print(setdiff(t1, t2))\n",
    "\n",
    "# Same, but t2-t1 instead of t1-t2\n",
    "print(\"table diff t2-t1\")\n",
    "print(setdiff(t2, t1))"
   ]
  },
  {
   "cell_type": "markdown",
   "metadata": {},
   "source": [
    "<br>"
   ]
  },
  {
   "cell_type": "markdown",
   "metadata": {},
   "source": [
    "<a id='texpand'></a>\n",
    "\n",
    "## texpand"
   ]
  },
  {
   "cell_type": "markdown",
   "metadata": {},
   "source": [
    "**Please review the** [Notes](#notes) **section above before running any examples in this notebook**\n",
    "\n",
    "Texpand is used to edit and change tables according to a set of user provided rules.  This can be done by building a customized loop over the input table.  Below we show a simple example, but this can be easily modified to fit the users needs."
   ]
  },
  {
   "cell_type": "code",
   "execution_count": 21,
   "metadata": {
    "collapsed": true
   },
   "outputs": [],
   "source": [
    "# Astronomy Specific Imports\n",
    "from astropy.table import Table"
   ]
  },
  {
   "cell_type": "code",
   "execution_count": 17,
   "metadata": {},
   "outputs": [
    {
     "name": "stdout",
     "output_type": "stream",
     "text": [
      "sname radius fwhm\n",
      "----- ------ ----\n",
      "star1     10  6.5\n",
      "star2      7  5.1\n",
      "star3     10  0.5\n",
      "star4      1 0.75\n",
      "star5     20  4.5\n"
     ]
    }
   ],
   "source": [
    "# Change star1 and star2 to a raidus of 10\n",
    "# Making a copy of the table for editing\n",
    "new_table = ex_table.copy()\n",
    "# Loops over the rows in the table\n",
    "for row in new_table:\n",
    "    # here we index the columns with numbers\n",
    "    if row[0] in ['star1','star3']:\n",
    "        row[1]= 10\n",
    "print(new_table)"
   ]
  },
  {
   "cell_type": "markdown",
   "metadata": {},
   "source": [
    "<br>"
   ]
  },
  {
   "cell_type": "markdown",
   "metadata": {},
   "source": [
    "<a id='thistogram'></a>\n",
    "\n",
    "## thistogram"
   ]
  },
  {
   "cell_type": "markdown",
   "metadata": {},
   "source": [
    "**Please review the** [Notes](#notes) **section above before running any examples in this notebook**\n",
    "\n",
    "Thistogram makes a histogram from a data column in a table.  We can easily accomplish this using the ``Astropy Tables`` and [Matplotlib.pyplot.hist](https://matplotlib.org/devdocs/api/_as_gen/matplotlib.pyplot.hist.html) tasks. For this example we will use the default binning. There is also an [Astropy histogram](http://docs.astropy.org/en/stable/api/astropy.stats.histogram.html) and a [Numpy histogram](https://docs.scipy.org/doc/numpy/reference/generated/numpy.histogram.html) available for generating the histogram data."
   ]
  },
  {
   "cell_type": "code",
   "execution_count": 19,
   "metadata": {
    "collapsed": true
   },
   "outputs": [],
   "source": [
    "# Astronomy Specific Imports\n",
    "from astropy.table import Table\n",
    "\n",
    "# Plotting Imports/Setup\n",
    "import matplotlib.pyplot as plt\n",
    "%matplotlib inline"
   ]
  },
  {
   "cell_type": "code",
   "execution_count": 20,
   "metadata": {},
   "outputs": [
    {
     "data": {
      "image/png": "[encoded data removed]",
      "text/plain": [
       "<matplotlib.figure.Figure at 0x15110eb278>"
      ]
     },
     "metadata": {},
     "output_type": "display_data"
    }
   ],
   "source": [
    "# Using the weight column of our example table\n",
    "n, bins, patches = plt.hist(ex_table['fwhm'].data)\n",
    "\n",
    "plt.xlabel('fwhm')\n",
    "plt.title('fwhm of stars')\n",
    "plt.show()"
   ]
  },
  {
   "cell_type": "markdown",
   "metadata": {},
   "source": [
    "<br>"
   ]
  },
  {
   "cell_type": "markdown",
   "metadata": {},
   "source": [
    "<br>"
   ]
  },
  {
   "cell_type": "markdown",
   "metadata": {},
   "source": [
    "<a id='tiimage-titable-tximage-txtable'></a>\n",
    "\n",
    "## tiimage-titable-tximage-txtable"
   ]
  },
  {
   "cell_type": "markdown",
   "metadata": {},
   "source": [
    "**Please review the** [Notes](#notes) **section above before running any examples in this notebook**\n",
    "\n",
    "Tiimage, titable, tximage, and txtable are all 3-D table functions.  ``Astropy`` ``Table`` objects can store any dimension ``numpy`` arrays in each element, as long as the columns are consistent.  Below we show a short example of storing a 3-D array in an ``Astropy`` Table. Other table functionality behaves the same for 2-D and 3-D table data."
   ]
  },
  {
   "cell_type": "code",
   "execution_count": 27,
   "metadata": {
    "collapsed": true
   },
   "outputs": [],
   "source": [
    "# Standard Imports\n",
    "import numpy as np\n",
    "\n",
    "# Astronomy Specific Imports\n",
    "from astropy.table import Table"
   ]
  },
  {
   "cell_type": "code",
   "execution_count": 28,
   "metadata": {
    "scrolled": false
   },
   "outputs": [
    {
     "name": "stdout",
     "output_type": "stream",
     "text": [
      "         Arrays [60,90]         \n",
      "--------------------------------\n",
      "0.892760413585 .. 0.283382986211\n",
      "0.637760881193 .. 0.363642899902\n"
     ]
    },
    {
     "data": {
      "text/plain": [
       "array([[ 0.63776088,  0.91520904,  0.02255264, ...,  0.68817791,\n",
       "         0.53479407,  0.30667641],\n",
       "       [ 0.97267867,  0.55856732,  0.86993039, ...,  0.91039544,\n",
       "         0.63862112,  0.58102198],\n",
       "       [ 0.51181066,  0.85164649,  0.05432316, ...,  0.36084783,\n",
       "         0.58934112,  0.96374561],\n",
       "       ..., \n",
       "       [ 0.83594372,  0.79412333,  0.78455287, ...,  0.88604032,\n",
       "         0.16606121,  0.1500973 ],\n",
       "       [ 0.81858617,  0.16964881,  0.00841479, ...,  0.66355838,\n",
       "         0.95266558,  0.79603504],\n",
       "       [ 0.81294063,  0.79609841,  0.58490711, ...,  0.3697692 ,\n",
       "         0.65451337,  0.3636429 ]])"
      ]
     },
     "execution_count": 28,
     "metadata": {},
     "output_type": "execute_result"
    }
   ],
   "source": [
    "# Storing a 2-D arrays in one column of a table\n",
    "arr1 = np.random.rand(60,90)\n",
    "arr2 = np.random.rand(60,90)\n",
    "# To retain the 2-D array as an element in the table, make sure you use two sets of square brackets\n",
    "three_table = Table([[arr1,arr2]],names=('Arrays',))\n",
    "three_table.pprint()\n",
    "\n",
    "# To pull out one array element, index column name then row numbers\n",
    "three_table['Arrays'][1]"
   ]
  },
  {
   "cell_type": "markdown",
   "metadata": {},
   "source": [
    "<br>"
   ]
  },
  {
   "cell_type": "markdown",
   "metadata": {},
   "source": [
    "<a id='tinfo=tlcol-tprint'></a>\n",
    "\n",
    "## tinfo-tlcol-tprint"
   ]
  },
  {
   "cell_type": "markdown",
   "metadata": {},
   "source": [
    "**Please review the** [Notes](#notes) **section above before running any examples in this notebook**\n",
    "\n",
    "Tinfo, tlcol and tprint were all used to display information about the table.  Below we show the ``Astropy Table`` equivalents, including ``showtable`` which is callable from the terminal."
   ]
  },
  {
   "cell_type": "code",
   "execution_count": 5,
   "metadata": {
    "collapsed": true
   },
   "outputs": [],
   "source": [
    "# Astronomy Specific Imports\n",
    "from astropy.table import Table"
   ]
  },
  {
   "cell_type": "code",
   "execution_count": 22,
   "metadata": {},
   "outputs": [
    {
     "name": "stdout",
     "output_type": "stream",
     "text": [
      "<Table length=5>\n",
      " name   dtype \n",
      "------ -------\n",
      " sname    str5\n",
      "radius   int64\n",
      "  fwhm float64\n",
      "\n"
     ]
    }
   ],
   "source": [
    "# For tinfo and tlcol\n",
    "print(ex_table.info)"
   ]
  },
  {
   "cell_type": "code",
   "execution_count": 23,
   "metadata": {},
   "outputs": [
    {
     "name": "stdout",
     "output_type": "stream",
     "text": [
      "sname radius fwhm\n",
      "----- ------ ----\n",
      "star1     10  6.5\n",
      "star2      7  5.1\n",
      "star3      2  0.5\n",
      "star4      1 0.75\n",
      "star5     20  4.5\n"
     ]
    }
   ],
   "source": [
    "# For tprint\n",
    "ex_table.pprint()"
   ]
  },
  {
   "cell_type": "code",
   "execution_count": 37,
   "metadata": {},
   "outputs": [
    {
     "data": {
      "text/html": [
       "<i>Table length=3</i>\n",
       "<table id=\"table90634550688\" class=\"table-striped table-bordered table-condensed\">\n",
       "<thead><tr><th>sname</th><th>fwhm</th></tr></thead>\n",
       "<thead><tr><th>str5</th><th>float64</th></tr></thead>\n",
       "<tr><td>star1</td><td>6.5</td></tr>\n",
       "<tr><td>star2</td><td>5.1</td></tr>\n",
       "<tr><td>star3</td><td>0.5</td></tr>\n",
       "</table>"
      ],
      "text/plain": [
       "<Table length=3>\n",
       "sname   fwhm \n",
       " str5 float64\n",
       "----- -------\n",
       "star1     6.5\n",
       "star2     5.1\n",
       "star3     0.5"
      ]
     },
     "execution_count": 37,
     "metadata": {},
     "output_type": "execute_result"
    }
   ],
   "source": [
    "# To print a specific subset of the table\n",
    "# Here we pull out the sname and fwhm columns\n",
    "# and rows 1-3\n",
    "ex_table['sname','fwhm'][0:3]"
   ]
  },
  {
   "cell_type": "code",
   "execution_count": 6,
   "metadata": {},
   "outputs": [
    {
     "name": "stdout",
     "output_type": "stream",
     "text": [
      "\u001b[0;31msname radius fwhm\u001b[0m\r\n",
      "\u001b[0;31m----- ------ ----\u001b[0m\r\n",
      "star1     10  6.5\r\n",
      "star2      7  5.1\r\n",
      "star3      2  0.5\r\n",
      "star4      1 0.75\r\n",
      "star5     20 13.0\r\n"
     ]
    }
   ],
   "source": [
    "# To print a table outside of a Python interpreter\n",
    "# Astropy has added the convenience function showtable\n",
    "!showtable --format ascii ../data/table2.txt"
   ]
  },
  {
   "cell_type": "code",
   "execution_count": 5,
   "metadata": {},
   "outputs": [
    {
     "name": "stdout",
     "output_type": "stream",
     "text": [
      "usage: showtable [-h] [--format FORMAT] [--more] [--info] [--stats]\r\n",
      "                 [--max-lines MAX_LINES] [--max-width MAX_WIDTH] [--hide-unit]\r\n",
      "                 [--show-dtype] [--delimiter DELIMITER] [--hdu HDU]\r\n",
      "                 [--path PATH] [--table-id TABLE_ID]\r\n",
      "                 filename [filename ...]\r\n",
      "\r\n",
      "Print tables from ASCII, FITS, HDF5, VOTable file(s). The tables are read with\r\n",
      "'astropy.table.Table.read' and are printed with 'astropy.table.Table.pprint'.\r\n",
      "The default behavior is to make the table output fit onto a single screen\r\n",
      "page. For a long and wide table this will mean cutting out inner rows and\r\n",
      "columns. To print **all** the rows or columns use ``--max-lines=-1`` or ``max-\r\n",
      "width=-1``, respectively. The complete list of supported formats can be found\r\n",
      "at http://astropy.readthedocs.io/en/latest/io/unified.html#built-in-table-\r\n",
      "readers-writers\r\n",
      "\r\n",
      "positional arguments:\r\n",
      "  filename              path to one or more files\r\n",
      "\r\n",
      "optional arguments:\r\n",
      "  -h, --help            show this help message and exit\r\n",
      "  --format FORMAT       input table format, should be specified if it cannot\r\n",
      "                        be automatically detected\r\n",
      "  --more                use the pager mode from Table.more\r\n",
      "  --info                show information about the table columns\r\n",
      "  --stats               show statistics about the table columns\r\n",
      "\r\n",
      "pprint arguments:\r\n",
      "  --max-lines MAX_LINES\r\n",
      "                        maximum number of lines in table output\r\n",
      "                        (default=screen length, -1 for no limit)\r\n",
      "  --max-width MAX_WIDTH\r\n",
      "                        maximum width in table output (default=screen width,\r\n",
      "                        -1 for no limit)\r\n",
      "  --hide-unit           hide the header row for unit (which is shown only if\r\n",
      "                        one or more columns has a unit)\r\n",
      "  --show-dtype          include a header row for column dtypes\r\n",
      "\r\n",
      "ASCII arguments:\r\n",
      "  --delimiter DELIMITER\r\n",
      "                        column delimiter string\r\n",
      "\r\n",
      "FITS arguments:\r\n",
      "  --hdu HDU             name of the HDU to show\r\n",
      "\r\n",
      "HDF5 arguments:\r\n",
      "  --path PATH           the path from which to read the table\r\n",
      "\r\n",
      "VOTable arguments:\r\n",
      "  --table-id TABLE_ID   the table to read in\r\n"
     ]
    }
   ],
   "source": [
    "# Here is the showtable help for more details on usage\n",
    "!showtable --help"
   ]
  },
  {
   "cell_type": "markdown",
   "metadata": {},
   "source": [
    "<br>"
   ]
  },
  {
   "cell_type": "markdown",
   "metadata": {},
   "source": [
    "<a id='tintegrate'></a>\n",
    "\n",
    "## tintegrate"
   ]
  },
  {
   "cell_type": "markdown",
   "metadata": {},
   "source": [
    "**Please review the** [Notes](#notes) **section above before running any examples in this notebook**\n",
    "\n",
    "Tintegrate is used to numerically integrate one column with respect to another.  This can be done using the [numpy.traz function](https://docs.scipy.org/doc/numpy/reference/generated/numpy.trapz.html). As we have shown how to extract an array from a Table in various other tasks in this notebook we will only cover the integration step here."
   ]
  },
  {
   "cell_type": "code",
   "execution_count": 34,
   "metadata": {
    "collapsed": true
   },
   "outputs": [],
   "source": [
    "# Standard Imports\n",
    "import numpy as np\n",
    "\n",
    "# Astronomy Specific Imports\n",
    "from astropy.table import Table"
   ]
  },
  {
   "cell_type": "code",
   "execution_count": 35,
   "metadata": {},
   "outputs": [
    {
     "name": "stdout",
     "output_type": "stream",
     "text": [
      "67.4\n"
     ]
    }
   ],
   "source": [
    "# Setup array, here you would pull from a table\n",
    "x = [1, 2, 3, 4, 6]\n",
    "y = [10.5, 12.3, 22.2, 13.3, 7.7]\n",
    "\n",
    "result = np.trapz(y,x)\n",
    "print(result)"
   ]
  },
  {
   "cell_type": "markdown",
   "metadata": {},
   "source": [
    "<br>"
   ]
  },
  {
   "cell_type": "markdown",
   "metadata": {},
   "source": [
    "<a id='tjoin'></a>\n",
    "\n",
    "## tjoin"
   ]
  },
  {
   "cell_type": "markdown",
   "metadata": {},
   "source": [
    "**Please review the** [Notes](#notes) **section above before running any examples in this notebook**\n",
    "\n",
    "Tjoin is used to perform a relational join of two tables. You can do all join types (inner, left, right, and outer) in the Astropy ``Tables`` package, see [join docs here](http://docs.astropy.org/en/stable/table/operations.html#join) for more details.  We take the examples shown here from the Astropy docs."
   ]
  },
  {
   "cell_type": "code",
   "execution_count": 36,
   "metadata": {
    "collapsed": true
   },
   "outputs": [],
   "source": [
    "# Astronomy Specific Imports\n",
    "from astropy.table import Table, join"
   ]
  },
  {
   "cell_type": "code",
   "execution_count": 37,
   "metadata": {
    "collapsed": true
   },
   "outputs": [],
   "source": [
    "# Setup tables\n",
    "optical = Table.read(\"\"\"name    obs_date    mag_b  mag_v\n",
    "                        M31     2012-01-02  17.0   16.0\n",
    "                        M82     2012-10-29  16.2   15.2\n",
    "                        M101    2012-10-31  15.1   15.5\"\"\", format='ascii')\n",
    "xray = Table.read(\"\"\"   name    obs_date    logLx\n",
    "                        NGC3516 2011-11-11  42.1\n",
    "                        M31     1999-01-05  43.1\n",
    "                        M82     2012-10-29  45.0\"\"\", format='ascii')"
   ]
  },
  {
   "cell_type": "code",
   "execution_count": 38,
   "metadata": {},
   "outputs": [
    {
     "name": "stdout",
     "output_type": "stream",
     "text": [
      "name  obs_date  mag_b mag_v logLx\n",
      "---- ---------- ----- ----- -----\n",
      " M82 2012-10-29  16.2  15.2  45.0\n"
     ]
    }
   ],
   "source": [
    "# Default inner join, default key column to set of columns that are common to both tables.\n",
    "opt_xray = join(optical, xray)\n",
    "print(opt_xray)"
   ]
  },
  {
   "cell_type": "code",
   "execution_count": 39,
   "metadata": {},
   "outputs": [
    {
     "name": "stdout",
     "output_type": "stream",
     "text": [
      "name  obs_date  mag_b mag_v logLx\n",
      "---- ---------- ----- ----- -----\n",
      "M101 2012-10-31  15.1  15.5    --\n",
      " M31 2012-01-02  17.0  16.0    --\n",
      " M82 2012-10-29  16.2  15.2  45.0\n"
     ]
    }
   ],
   "source": [
    "# Left join\n",
    "print(join(optical, xray, join_type='left'))"
   ]
  },
  {
   "cell_type": "code",
   "execution_count": 40,
   "metadata": {},
   "outputs": [
    {
     "name": "stdout",
     "output_type": "stream",
     "text": [
      "  name  obs_date_1 mag_b mag_v obs_date_2 logLx\n",
      "------- ---------- ----- ----- ---------- -----\n",
      "    M31 2012-01-02  17.0  16.0 1999-01-05  43.1\n",
      "    M82 2012-10-29  16.2  15.2 2012-10-29  45.0\n",
      "NGC3516         --    --    -- 2011-11-11  42.1\n"
     ]
    }
   ],
   "source": [
    "# Right join, with only name field as key\n",
    "print(join(optical, xray, join_type='right', keys='name'))"
   ]
  },
  {
   "cell_type": "code",
   "execution_count": 41,
   "metadata": {},
   "outputs": [
    {
     "name": "stdout",
     "output_type": "stream",
     "text": [
      "  name   obs_date  mag_b mag_v logLx\n",
      "------- ---------- ----- ----- -----\n",
      "   M101 2012-10-31  15.1  15.5    --\n",
      "    M31 1999-01-05    --    --  43.1\n",
      "    M31 2012-01-02  17.0  16.0    --\n",
      "    M82 2012-10-29  16.2  15.2  45.0\n",
      "NGC3516 2011-11-11    --    --  42.1\n"
     ]
    }
   ],
   "source": [
    "# Outer join\n",
    "print(join(optical, xray, join_type='outer'))"
   ]
  },
  {
   "cell_type": "markdown",
   "metadata": {},
   "source": [
    "<a id='tjoin'></a>\n",
    "\n",
    "## tlinear"
   ]
  },
  {
   "cell_type": "markdown",
   "metadata": {},
   "source": [
    "**Please review the** [Notes](#notes) **section above before running any examples in this notebook**\n",
    "\n",
    "Tlinear is used to fit a one-dimensional line to a dataset and apply weights with standard deviation. This functionality is contained in the [polyfit package](https://docs.scipy.org/doc/numpy/reference/generated/numpy.polyfit.html) and [poly1d package](https://docs.scipy.org/doc/numpy-1.10.4/reference/generated/numpy.poly1d.html) of Numpy. Tlinear applies Gaussian weights (inverse STD instead of inverse squared STD) but with this change in mind Polyfit recreates the results of Tlinear to machine precision. We took this example from the WFC3/UVIS Gain Monitor to demonstrate."
   ]
  },
  {
   "cell_type": "code",
   "execution_count": 2,
   "metadata": {
    "collapsed": true
   },
   "outputs": [],
   "source": [
    "# All you need is Numpy \n",
    "import numpy as np\n",
    "\n",
    "# But Astropy will let us open the file\n",
    "from astropy.io import ascii\n",
    "\n",
    "# And Matplotlib will make for better demonstration\n",
    "import matplotlib.pyplot as plt\n",
    "%matplotlib inline"
   ]
  },
  {
   "cell_type": "code",
   "execution_count": 3,
   "metadata": {},
   "outputs": [
    {
     "name": "stdout",
     "output_type": "stream",
     "text": [
      "Line fit to the data : y = 0.6364783735418926*x + 5.130580511662094\n"
     ]
    },
    {
     "data": {
      "image/png": "[encoded data removed]",
      "text/plain": [
       "<matplotlib.figure.Figure at 0x101976320>"
      ]
     },
     "metadata": {},
     "output_type": "display_data"
    }
   ],
   "source": [
    "# Test dataset taken from WFC3/UVIS Gain Monitor\n",
    "infile = '../data/WFC3_gain.dat'\n",
    "data = ascii.read(infile)\n",
    "variance, mean, std = data['variance'], data['mean'], data['std']\n",
    "\n",
    "# Fit 1D line to variance vs mean with Gaussian std weights.\n",
    "fit = np.polyfit(mean, variance, deg=1, w=1/std)\n",
    "slope, intercept = fit\n",
    "\n",
    "# Turn the slope and intercept into a functional form and apply it.\n",
    "fit_line = np.poly1d(fit)\n",
    "y_line = fit_line(mean)\n",
    "\n",
    "# Show off our handy work\n",
    "print('Line fit to the data : y = {}*x + {}'.format(slope, intercept))\n",
    "plt.scatter(mean, variance, color='black', alpha=.1, s=8)\n",
    "plt.plot(mean, y_line, color='green')\n",
    "plt.xlabel('Mean')\n",
    "plt.ylabel('Variance')\n",
    "plt.title('WFC3 Gain')"
   ]
  },
  {
   "cell_type": "markdown",
   "metadata": {},
   "source": [
    "<a id='tmatch'></a>\n",
    "\n",
    "## tmatch"
   ]
  },
  {
   "cell_type": "markdown",
   "metadata": {},
   "source": [
    "**Please review the** [Notes](#notes) **section above before running any examples in this notebook**\n",
    "\n",
    "Tmatch is used to find the closest match between rows in two tables.  This functionality is contained in the [coordinates package](http://docs.astropy.org/en/stable/coordinates/matchsep.html) of Astropy. This example is taken from the [Coordinates notebook](http://www.astropy.org/astropy-tutorials/Coordinates.html), please see the notebook for more details before expanding this example to suit your needs."
   ]
  },
  {
   "cell_type": "code",
   "execution_count": 7,
   "metadata": {
    "collapsed": true
   },
   "outputs": [],
   "source": [
    "# Astronomy Specific Imports\n",
    "from astropy.table import Table\n",
    "from astropy.coordinates import SkyCoord\n",
    "from astropy import units as u"
   ]
  },
  {
   "cell_type": "code",
   "execution_count": 8,
   "metadata": {},
   "outputs": [
    {
     "name": "stdout",
     "output_type": "stream",
     "text": [
      "Matched values by index: \n",
      "\n",
      "[368 370   6 116 255 454 501  41 174 505  13 515 624 523 338 297 389 294\n",
      " 573 539 500 140 622]\n"
     ]
    }
   ],
   "source": [
    "# Open table files\n",
    "file1 = '../data/HCG7_SDSS_photo.dat'\n",
    "file2 = '../data/HCG7_2MASS.tbl'\n",
    "sdss = Table.read(file1, format='ascii')\n",
    "twomass = Table.read(file2, format='ascii')\n",
    "\n",
    "# Match between catalogs\n",
    "coo_sdss = SkyCoord(sdss['ra']*u.deg, sdss['dec']*u.deg)\n",
    "coo_twomass = SkyCoord(twomass['ra'], twomass['dec'])\n",
    "idx_sdss, d2d_sdss, d3d_sdss = coo_twomass.match_to_catalog_sky(coo_sdss)\n",
    "\n",
    "# Print matches\n",
    "print(\"Matched values by index: \\n\")\n",
    "print(idx_sdss)"
   ]
  },
  {
   "cell_type": "markdown",
   "metadata": {},
   "source": [
    "<br>"
   ]
  },
  {
   "cell_type": "markdown",
   "metadata": {},
   "source": [
    "<a id='tmerge'></a>\n",
    "\n",
    "## tmerge"
   ]
  },
  {
   "cell_type": "markdown",
   "metadata": {},
   "source": [
    "**Please review the** [Notes](#notes) **section above before running any examples in this notebook**\n",
    "\n",
    "Tmerge is used to combine columns or rows of multiple tables. There are two [Astropy Table tasks](http://docs.astropy.org/en/stable/table/operations.html) for this, ``vstack`` and ``hstack``. We take these examples from the Astropy table docs."
   ]
  },
  {
   "cell_type": "code",
   "execution_count": 44,
   "metadata": {
    "collapsed": true
   },
   "outputs": [],
   "source": [
    "# Astronomy Specific Imports\n",
    "from astropy.table import Table, vstack, hstack"
   ]
  },
  {
   "cell_type": "code",
   "execution_count": 45,
   "metadata": {},
   "outputs": [
    {
     "name": "stdout",
     "output_type": "stream",
     "text": [
      "  name   obs_date  mag_b logLx\n",
      "------- ---------- ----- -----\n",
      "    M31 2012-01-02  17.0  42.5\n",
      "    M82 2012-10-29  16.2  43.5\n",
      "   M101 2012-10-31  15.1  44.5\n",
      "NGC3516 2011-11-11    --  42.1\n",
      "    M31 1999-01-05    --  43.1\n",
      "    M82 2012-10-30    --  45.0\n"
     ]
    }
   ],
   "source": [
    "# Setup tables\n",
    "obs1 = Table.read(\"\"\"name    obs_date    mag_b  logLx\n",
    "                     M31     2012-01-02  17.0   42.5\n",
    "                     M82     2012-10-29  16.2   43.5\n",
    "                     M101    2012-10-31  15.1   44.5\"\"\", format='ascii')\n",
    "\n",
    "obs2 = Table.read(\"\"\"name    obs_date    logLx\n",
    "                     NGC3516 2011-11-11  42.1\n",
    "                     M31     1999-01-05  43.1\n",
    "                     M82     2012-10-30  45.0\"\"\", format='ascii')\n",
    "\n",
    "# Vertical stack\n",
    "print(vstack([obs1, obs2]))"
   ]
  },
  {
   "cell_type": "code",
   "execution_count": 46,
   "metadata": {},
   "outputs": [
    {
     "name": "stdout",
     "output_type": "stream",
     "text": [
      " a   b   c   d     e  \n",
      "--- --- --- ---- -----\n",
      "  1 foo 1.4  ham  eggs\n",
      "  2 bar 2.1 spam toast\n",
      "  3 baz 2.8   --    --\n"
     ]
    }
   ],
   "source": [
    "# Setup tables\n",
    "t1 = Table.read(\"\"\"a   b    c\n",
    "                   1   foo  1.4\n",
    "                   2   bar  2.1\n",
    "                   3   baz  2.8\"\"\", format='ascii')\n",
    "t2 = Table.read(\"\"\"d     e\n",
    "                   ham   eggs\n",
    "                   spam  toast\"\"\", format='ascii')\n",
    "\n",
    "# Horizontal stack\n",
    "print(hstack([t1, t2]))"
   ]
  },
  {
   "cell_type": "markdown",
   "metadata": {},
   "source": [
    "<br>"
   ]
  },
  {
   "cell_type": "markdown",
   "metadata": {},
   "source": [
    "<a id='tselect-tproject-tquery'></a>\n",
    "\n",
    "## tselect-tproject-tquery"
   ]
  },
  {
   "cell_type": "markdown",
   "metadata": {},
   "source": [
    "**Please review the** [Notes](#notes) **section above before running any examples in this notebook**\n",
    "\n",
    "Tselect is used to create a new table from selected rows, tproject from selected columns, and tquery from a combination of selected rows and columns.  We show two examples of how to generate a new table from selected columns and selected rows.  You can combine these two pieces of code in either order to get a tquery like result. For row filtering we combine boolean masks using the [Python bitwise operators](https://docs.python.org/3.5/library/stdtypes.html#bitwise-operations-on-integer-types). There is an alternate way to do selections if you have already organized your table into groups by using the [filter method](http://docs.astropy.org/en/stable/table/operations.html#filtering), but the user will still need to write a custom filtering function to provide to ``filter``."
   ]
  },
  {
   "cell_type": "code",
   "execution_count": 35,
   "metadata": {
    "collapsed": true
   },
   "outputs": [],
   "source": [
    "# Astronomy Specific Imports\n",
    "from astropy.table import Table"
   ]
  },
  {
   "cell_type": "code",
   "execution_count": 33,
   "metadata": {},
   "outputs": [
    {
     "name": "stdout",
     "output_type": "stream",
     "text": [
      "sname radius fwhm\n",
      "----- ------ ----\n",
      "star4      1 0.75\n",
      "star5     20 13.0\n"
     ]
    }
   ],
   "source": [
    "# For selecting rows can use bitwise operators to generate a boolean mask\n",
    "table1 = Table(dtype=ex_table.dtype)\n",
    "boolean_mask = (ex_table['sname'] == 'star4') | (ex_table['radius'] == 20)\n",
    "\n",
    "# \n",
    "subset = ex_table[boolean_mask]\n",
    "subset.pprint()"
   ]
  },
  {
   "cell_type": "code",
   "execution_count": 37,
   "metadata": {},
   "outputs": [
    {
     "name": "stdout",
     "output_type": "stream",
     "text": [
      "sname fwhm\n",
      "----- ----\n",
      "star1  6.5\n",
      "star2  5.1\n",
      "star3  0.5\n",
      "star4 0.75\n",
      "star5 13.0\n"
     ]
    }
   ],
   "source": [
    "# For selecting columns we can pull the required columns \n",
    "# out of the original table with the column names\n",
    "table2 = ex_table['sname','fwhm']\n",
    "table2.pprint()"
   ]
  },
  {
   "cell_type": "markdown",
   "metadata": {},
   "source": [
    "<br>"
   ]
  },
  {
   "cell_type": "markdown",
   "metadata": {},
   "source": [
    "<a id='tsort'></a>\n",
    "\n",
    "## tsort"
   ]
  },
  {
   "cell_type": "markdown",
   "metadata": {},
   "source": [
    "**Please review the** [Notes](#notes) **section above before running any examples in this notebook**\n",
    "\n",
    "Tsort, as you would guess, sorts a table.  ``Astropy`` ``Table`` objects have a built in [sort method](http://docs.astropy.org/en/stable/table/modify_table.html). You can even sort by more then one column. Sorting is preformed inplace so in this example we make a copy of the table first."
   ]
  },
  {
   "cell_type": "code",
   "execution_count": 50,
   "metadata": {
    "collapsed": true
   },
   "outputs": [],
   "source": [
    "# Standard Imports\n",
    "import numpy as np\n",
    "\n",
    "# Astronomy Specific imports\n",
    "from astropy.table import Table"
   ]
  },
  {
   "cell_type": "code",
   "execution_count": 73,
   "metadata": {},
   "outputs": [
    {
     "name": "stdout",
     "output_type": "stream",
     "text": [
      "sname radius fwhm\n",
      "----- ------ ----\n",
      "star4      1 0.75\n",
      "star3      2  0.5\n",
      "star2      7  5.1\n",
      "star1     10  6.5\n",
      "star5     20  4.5\n",
      "\n",
      "\n",
      "sname radius fwhm\n",
      "----- ------ ----\n",
      "star5     20  4.5\n",
      "star1     10  6.5\n",
      "star2      7  5.1\n",
      "star3      2  0.5\n",
      "star4      1 0.75\n",
      "\n",
      "\n",
      "sname radius fwhm\n",
      "----- ------ ----\n",
      "star4      1 0.75\n",
      "star3      2  0.5\n",
      "star2      7  5.1\n",
      "star1     10  6.5\n",
      "star5     20  4.5\n"
     ]
    }
   ],
   "source": [
    "# Sorting\n",
    "sorted_table = ex_table.copy()\n",
    "sorted_table.sort('radius')\n",
    "sorted_table.pprint()\n",
    "\n",
    "print('\\n')\n",
    "\n",
    "# Reverse the sort\n",
    "sorted_table.reverse()\n",
    "sorted_table.pprint()\n",
    "\n",
    "print('\\n')\n",
    "\n",
    "# Sort by more then one column\n",
    "sorted_table.sort(['radius','fwhm'])\n",
    "sorted_table.pprint()"
   ]
  },
  {
   "cell_type": "markdown",
   "metadata": {},
   "source": [
    "<br>"
   ]
  },
  {
   "cell_type": "markdown",
   "metadata": {},
   "source": [
    "<a id='tstat'></a>\n",
    "\n",
    "## tstat"
   ]
  },
  {
   "cell_type": "markdown",
   "metadata": {},
   "source": [
    "**Please review the** [Notes](#notes) **section above before running any examples in this notebook**\n",
    "\n",
    "Tstat gives you the mean, standard deviation, minimum and maximum of a column.  This can be done by using the `Table` [info function](http://docs.astropy.org/en/stable/table/access_table.html#summary-information), with the 'stats' argument."
   ]
  },
  {
   "cell_type": "code",
   "execution_count": 47,
   "metadata": {
    "collapsed": true
   },
   "outputs": [],
   "source": [
    "# Astronomy Specific Imports\n",
    "from astropy.table import Table"
   ]
  },
  {
   "cell_type": "code",
   "execution_count": 54,
   "metadata": {},
   "outputs": [
    {
     "name": "stdout",
     "output_type": "stream",
     "text": [
      "<Table length=5>\n",
      " name  mean      std      min max\n",
      "------ ---- ------------- --- ---\n",
      " sname   --            --  --  --\n",
      "radius  8.0 6.84105255059   1  20\n",
      "  fwhm 3.47 2.41321362502 0.5 6.5\n",
      "\n",
      "\n",
      "name = radius\n",
      "mean = 8.0\n",
      "std = 6.84105255059\n",
      "min = 1\n",
      "max = 20\n",
      "n_bad = 0\n",
      "length = 5\n"
     ]
    }
   ],
   "source": [
    "# All column stats\n",
    "ex_table.info('stats')\n",
    "\n",
    "print(\"\\n\")\n",
    "\n",
    "# Specific column stats\n",
    "ex_table['radius'].info('stats')"
   ]
  },
  {
   "cell_type": "markdown",
   "metadata": {},
   "source": [
    "<br>"
   ]
  },
  {
   "cell_type": "markdown",
   "metadata": {},
   "source": [
    "<br>"
   ]
  },
  {
   "cell_type": "markdown",
   "metadata": {},
   "source": [
    "## Not Replacing"
   ]
  },
  {
   "cell_type": "markdown",
   "metadata": {},
   "source": [
    "* gtedit - Graphically edit a table. Deprecated.\n",
    "* gtpar - Pset to specify graph parameters for gtedit task. Deprecated.\n",
    "* keytab - Copy n image or table header keyword to a table element. See [Astropy Tables](http://docs.astropy.org/en/stable/table/index.html) documentation.\n",
    "* keypar - Copy an image or table header keyword to an IRAF parameter. See [Astropy FITS](http://docs.astropy.org/en/stable/io/fits/) documentation.\n",
    "* keyselect - Copy selected image header keywords to sdas table. See **images.imutil**\n",
    "* parkey - Put an IRAF parameter into an image or table header keyword. See [Astropy FITS](http://docs.astropy.org/en/stable/io/fits/) documentation.\n",
    "* tabkey - Copy a table element to an image or table header keyword. See the above notebook and [Astropy FITS](http://docs.astropy.org/en/stable/io/fits/) documentation.\n",
    "* tcheck - Check STSDAS table element values. See [Astropy Tables](http://docs.astropy.org/en/stable/table/index.html) documentation.\n",
    "* tchsize - Change allocated sizes of various sections of a table. Deprecated.\n",
    "* tcreate - Create a FITS table from an ASCII descriptor table. see [tcopy-tdump](#tcopy-tdump) and [Unified I/O](http://docs.astropy.org/en/stable/io/unified.html#fits) documentation.\n",
    "* tdelete - Delete tables. Deprecated.\n",
    "* tedit - Edit a table. See [Astropy Tables](http://docs.astropy.org/en/stable/table/index.html) documentation or [partab](#partab).\n",
    "* thedit - Edit or print table header keywords. See **images.imutil.hedit**\n",
    "* thselect - Print table keyword values. See **images.imutil.hselect**\n",
    "* tproduct - Form the Cartesian product of two tables. See [tjoin](#tjoin)\n",
    "* Trebin  - Allows the user to rebin columns in a table using linear or spline interpolation. See the [Astropy binning doc section](http://docs.astropy.org/en/stable/table/operations.html#binning) for a subset of this functionality.\n",
    "* tread - Browse through a table. See [Astropy Tables](http://docs.astropy.org/en/stable/table/index.html) documentation.\n",
    "* tscopy - Copy row/column subsets of tables using selectors. See [tselect-tproject-tquery](#tselect-tproject-tquery).\n",
    "* ttranspose - Transpose or flip a table. Deprecated.\n",
    "* tupar - Edit table header keywords. Interactive GUI. Deprecated\n",
    "* tupar - Edit table header keywords. Interactive GUI. See [tchcol](#tchcol)"
   ]
  },
  {
   "cell_type": "code",
   "execution_count": null,
   "metadata": {
    "collapsed": true
   },
   "outputs": [],
   "source": []
  }
 ],
 "metadata": {
  "kernelspec": {
   "display_name": "Python 3",
   "language": "python",
   "name": "python3"
  },
  "language_info": {
   "codemirror_mode": {
    "name": "ipython",
    "version": 3
   },
   "file_extension": ".py",
   "mimetype": "text/x-python",
   "name": "python",
   "nbconvert_exporter": "python",
   "pygments_lexer": "ipython3",
   "version": "3.6.3"
  }
 },
 "nbformat": 4,
 "nbformat_minor": 1
}
